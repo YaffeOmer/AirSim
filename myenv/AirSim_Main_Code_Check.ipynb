{
 "cells": [
  {
   "cell_type": "code",
   "execution_count": 1,
   "metadata": {},
   "outputs": [],
   "source": [
    "import socket\n",
    "import subprocess\n",
    "import pickle\n",
    "import numpy as np\n",
    "import matplotlib.pyplot as plt\n",
    "import time\n",
    "import subprocess\n",
    "\n",
    "class DroneControl:\n",
    "    def send_command(self, command):\n",
    "        client_socket = socket.socket(socket.AF_INET, socket.SOCK_STREAM)\n",
    "        client_socket.connect(('localhost', 5555))\n",
    "        client_socket.send(command.encode())    \n",
    "        return client_socket\n",
    "    \n",
    "    def take_off(self):\n",
    "        self.send_command('initialize')\n",
    "\n",
    "    def motor_control(self, front_right_pwm, rear_left_pwm, front_left_pwm, rear_right_pwm, duration):\n",
    "        self.send_command(f'motor_control {front_right_pwm} {rear_left_pwm} {front_left_pwm} {rear_right_pwm} {duration}')\n",
    "\n",
    "    def read_imu_data(self):\n",
    "        client_socket = self.send_command('read_imu_data')\n",
    "        time_tag, a_x , a_y , a_z , angular_Vel_x , angular_Vel_y , angular_Vel_z  = self.recieved_data(client_socket)\n",
    "        return time_tag, a_x , a_y , a_z , angular_Vel_x , angular_Vel_y , angular_Vel_z\n",
    "\n",
    "    def capture_image (self,camera_side):\n",
    "        if camera_side == 'front':\n",
    "            client_socket  = self.send_command('render_image front_cam')\n",
    "\n",
    "        if camera_side == 'right': \n",
    "            client_socket  = self.send_command('render_image right_cam')\n",
    "\n",
    "        if camera_side == 'left':\n",
    "            client_socket  = self.send_command('render_image left_cam')\n",
    "        \n",
    "        image_data = self.recieved_data(client_socket)\n",
    "        img1d = np.frombuffer(image_data[0], dtype=np.uint8)\n",
    "        img_rgb = img1d.reshape(image_data[2], image_data[1], 3)\n",
    "        plt.imshow(img_rgb)\n",
    "\n",
    "    def recieved_data(self,client_socket):\n",
    "        # client_socket = self.send_command('recieved_data')\n",
    "        response = b''\n",
    "        while True:\n",
    "            part = client_socket.recv(4096)\n",
    "            if not part:\n",
    "                break\n",
    "            response += part\n",
    "        client_socket.close()\n",
    "        if response != b'':\n",
    "            response = pickle.loads(response)\n",
    "        return response"
   ]
  },
  {
   "cell_type": "code",
   "execution_count": 2,
   "metadata": {},
   "outputs": [],
   "source": [
    "cmd_process = subprocess.Popen('cmd', shell=True, stdin=subprocess.PIPE, stdout=subprocess.PIPE, stderr=subprocess.PIPE, universal_newlines=True)\n",
    "cmd_process.stdin.write(r'cd C:\\Users\\yaffe\\source\\repos\\AirSim\\myenv\\Scripts && python API_Commands_Script.py' + '\\n')  # Change directory and execute Python script\n",
    "cmd_process.stdin.flush()\n",
    "drone = DroneControl()\n",
    "drone.take_off()"
   ]
  },
  {
   "cell_type": "code",
   "execution_count": null,
   "metadata": {},
   "outputs": [],
   "source": [
    "# Image capturing:\n",
    "#drone.capture_image('front')\n",
    "drone.capture_image('right')\n",
    "#drone.capture_image('left')"
   ]
  },
  {
   "cell_type": "code",
   "execution_count": 3,
   "metadata": {},
   "outputs": [
    {
     "data": {
      "text/plain": [
       "(1716585383407677952,\n",
       " 0.03461390361189842,\n",
       " -0.037736013531684875,\n",
       " -9.383520126342773,\n",
       " 0.00021310383453965187,\n",
       " 0.0012228485429659486,\n",
       " -0.0012307233409956098)"
      ]
     },
     "execution_count": 3,
     "metadata": {},
     "output_type": "execute_result"
    }
   ],
   "source": [
    "drone.read_imu_data()"
   ]
  },
  {
   "cell_type": "code",
   "execution_count": 6,
   "metadata": {},
   "outputs": [],
   "source": [
    "drone.motor_control(0.02, 0.025, 0.02, 0.025, 5)"
   ]
  },
  {
   "cell_type": "code",
   "execution_count": null,
   "metadata": {},
   "outputs": [],
   "source": [
    "cmd_process = subprocess.Popen('cmd', shell=True, stdin=subprocess.PIPE, stdout=subprocess.PIPE, stderr=subprocess.PIPE, universal_newlines=True)\n",
    "cmd_process.stdin.write(r'cd C:\\Users\\yaffe\\source\\repos\\AirSim\\myenv\\Scripts && python API_Commands_Script.py' + '\\n')  \n",
    "cmd_process.stdin.flush()\n"
   ]
  }
 ],
 "metadata": {
  "kernelspec": {
   "display_name": "Python 3",
   "language": "python",
   "name": "python3"
  },
  "language_info": {
   "codemirror_mode": {
    "name": "ipython",
    "version": 3
   },
   "file_extension": ".py",
   "mimetype": "text/x-python",
   "name": "python",
   "nbconvert_exporter": "python",
   "pygments_lexer": "ipython3",
   "version": "3.12.2"
  }
 },
 "nbformat": 4,
 "nbformat_minor": 2
}
