{
 "cells": [
  {
   "cell_type": "code",
   "execution_count": 1,
   "metadata": {},
   "outputs": [],
   "source": [
    "import socket\n",
    "import subprocess\n",
    "import pickle\n",
    "import threading\n",
    "import numpy as np\n",
    "import matplotlib.pyplot as plt\n",
    "import time\n",
    "import subprocess\n",
    "\n",
    "class DroneControl_API:\n",
    "    def send_command(self, command):\n",
    "        client_socket = socket.socket(socket.AF_INET, socket.SOCK_STREAM)\n",
    "        client_socket.connect(('localhost', 5555))\n",
    "        client_socket.send(command.encode())    \n",
    "        return client_socket\n",
    "    \n",
    "    def take_off(self):\n",
    "        self.send_command('initialize')\n",
    "\n",
    "    def motor_control(self, front_right_pwm, rear_left_pwm, front_left_pwm, rear_right_pwm, duration):\n",
    "        self.send_command(f'motor_control {front_right_pwm} {rear_left_pwm} {front_left_pwm} {rear_right_pwm} {duration}')\n",
    "\n",
    "    def read_imu_data(self):\n",
    "        client_socket = self.send_command('read_imu_data')\n",
    "        time_tag, a_x , a_y , a_z , angular_Vel_x , angular_Vel_y , angular_Vel_z  = self.recieved_data(client_socket)\n",
    "        return time_tag, a_x , a_y , a_z , angular_Vel_x , angular_Vel_y , angular_Vel_z\n",
    "\n",
    "    def capture_image (self,camera_side):\n",
    "        if camera_side == 'front':\n",
    "            client_socket  = self.send_command('render_image front_cam')\n",
    "\n",
    "        if camera_side == 'right': \n",
    "            client_socket  = self.send_command('render_image right_cam')\n",
    "\n",
    "        if camera_side == 'left':\n",
    "            client_socket  = self.send_command('render_image left_cam')\n",
    "        \n",
    "        image_data = self.recieved_data(client_socket)\n",
    "        img1d = np.frombuffer(image_data[0], dtype=np.uint8)\n",
    "        img_rgb = img1d.reshape(image_data[2], image_data[1], 3)\n",
    "        plt.imshow(img_rgb)\n",
    "\n",
    "    def recieved_data(self,client_socket):\n",
    "        # client_socket = self.send_command('recieved_data')\n",
    "        response = b''\n",
    "        while True:\n",
    "            part = client_socket.recv(4096)\n",
    "            if not part:\n",
    "                break\n",
    "            response += part\n",
    "        client_socket.close()\n",
    "        if response != b'':\n",
    "            response = pickle.loads(response)\n",
    "        return response"
   ]
  },
  {
   "cell_type": "code",
   "execution_count": 2,
   "metadata": {},
   "outputs": [],
   "source": [
    "class Kalman_Filter:\n",
    "    def __init__(self):\n",
    "        self.A = np.array([[1, 1], [0, 1]])\n",
    "        self.B = np.array([[0.5], [1]])\n",
    "        self.C = np.array([[1, 0]])\n",
    "        self.Q = np.array([[1, 0], [0, 1]])\n",
    "        self.R = np.array([[1]])\n",
    "        self.P = np.array([[1, 0], [0, 1]])\n",
    "        self.x = np.array([[0], [0]])"
   ]
  },
  {
   "cell_type": "code",
   "execution_count": 3,
   "metadata": {},
   "outputs": [],
   "source": [
    "class IMU_Data():\n",
    "    def __init__(self,api_control):\n",
    "        self.kalman_filter = Kalman_Filter()\n",
    "        self.api_control = api_control\n",
    "\n",
    "    def run(self):\n",
    "        time_list = [] \n",
    "        ax_list = [] \n",
    "        ay_list = [] \n",
    "        az_list = []\n",
    "        Inital_Time, *_  = self.api_control.read_imu_data()\n",
    "        #print(self.api_control.read_imu_data())\n",
    "        while True:\n",
    "            sleep.time(0.01)\n",
    "            time_tag, *_ = self.api_control.read_imu_data()\n",
    "            # time_list.append(time_tag)\n",
    "            # ax_list.append(a_x)\n",
    "            # ay_list.append(a_y)\n",
    "            # az_list.append(a_z)\n",
    "            #print(1e-9*(time_tag - Inital_Time))\n",
    "            time_list.append(1e-9*(time_tag - Inital_Time))\n",
    "            print(len(time_list))\n",
    "            if len(time_list) > 1000:\n",
    "                break\n",
    "        plt.plot(time_list)\n",
    "        plt.show()"
   ]
  },
  {
   "cell_type": "code",
   "execution_count": 4,
   "metadata": {},
   "outputs": [],
   "source": [
    "# Connection to the AirSim Simulator:\n",
    "cmd_process = subprocess.Popen('cmd', shell=True, stdin=subprocess.PIPE, stdout=subprocess.PIPE, stderr=subprocess.PIPE, universal_newlines=True)\n",
    "cmd_process.stdin.write(r'cd C:\\Users\\yaffe\\source\\repos\\AirSim\\myenv\\Scripts && python API_Commands_Script.py' + '\\n')  # Change directory and execute Python script\n",
    "cmd_process.stdin.flush()\n",
    "\n",
    "class Drone_Flight:\n",
    "    def __init__(self):\n",
    "\n",
    "        # Connect to the AirSim Simulator & Take off:\n",
    "        self.API_Control = DroneControl_API()\n",
    "        self.API_Control.take_off()\n",
    "        time.sleep(3)\n",
    "        self.running = True\n",
    "        # Imu Class:\n",
    "        self.imu_data = IMU_Data(self.API_Control)\n",
    "\n",
    "    def start(self):\n",
    "        start_time = time.time\n",
    "        self.imu_data.run()\n",
    "        #imu_thread = threading.Thread(target = self.imu_data.run)\n",
    "        #imu_thread.start()\n"
   ]
  },
  {
   "cell_type": "code",
   "execution_count": 5,
   "metadata": {},
   "outputs": [
    {
     "name": "stdout",
     "output_type": "stream",
     "text": [
      "1\n",
      "2\n",
      "3\n",
      "4\n",
      "5\n",
      "6\n",
      "7\n",
      "8\n",
      "9\n",
      "10\n",
      "11\n",
      "12\n",
      "13\n",
      "14\n",
      "15\n",
      "16\n",
      "17\n",
      "18\n",
      "19\n",
      "20\n",
      "21\n",
      "22\n",
      "23\n",
      "24\n",
      "25\n",
      "26\n",
      "27\n",
      "28\n",
      "29\n",
      "30\n",
      "31\n",
      "32\n",
      "33\n",
      "34\n",
      "35\n",
      "36\n"
     ]
    },
    {
     "ename": "",
     "evalue": "",
     "output_type": "error",
     "traceback": [
      "\u001b[1;31mCannot execute code, session has been disposed. Please try restarting the Kernel."
     ]
    },
    {
     "ename": "",
     "evalue": "",
     "output_type": "error",
     "traceback": [
      "\u001b[1;31mCannot execute code, session has been disposed. Please try restarting the Kernel. \n",
      "\u001b[1;31mView Jupyter <a href='command:jupyter.viewOutput'>log</a> for further details."
     ]
    }
   ],
   "source": [
    "x = Drone_Flight()\n",
    "x.start()"
   ]
  },
  {
   "cell_type": "code",
   "execution_count": null,
   "metadata": {},
   "outputs": [],
   "source": [
    "# # Image capturing:\n",
    "# #drone.capture_image('front')\n",
    "# drone_api.capture_image('right')\n",
    "# #drone.capture_image('left')\n",
    "# drone_api.read_imu_data()\n",
    "# drone_api.motor_control(0.02, 0.025, 0.02, 0.025, 5)"
   ]
  }
 ],
 "metadata": {
  "kernelspec": {
   "display_name": "Python 3",
   "language": "python",
   "name": "python3"
  },
  "language_info": {
   "codemirror_mode": {
    "name": "ipython",
    "version": 3
   },
   "file_extension": ".py",
   "mimetype": "text/x-python",
   "name": "python",
   "nbconvert_exporter": "python",
   "pygments_lexer": "ipython3",
   "version": "3.12.2"
  }
 },
 "nbformat": 4,
 "nbformat_minor": 2
}
